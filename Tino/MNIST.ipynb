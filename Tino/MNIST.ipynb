{
 "cells": [
  {
   "cell_type": "code",
   "execution_count": 1,
   "metadata": {},
   "outputs": [
    {
     "name": "stderr",
     "output_type": "stream",
     "text": [
      "/home/kkrauser/anaconda3/lib/python3.6/site-packages/h5py/__init__.py:36: FutureWarning: Conversion of the second argument of issubdtype from `float` to `np.floating` is deprecated. In future, it will be treated as `np.float64 == np.dtype(float).type`.\n",
      "  from ._conv import register_converters as _register_converters\n",
      "Using TensorFlow backend.\n",
      "/home/kkrauser/anaconda3/lib/python3.6/site-packages/keras/models.py:942: UserWarning: The `nb_epoch` argument in `fit` has been renamed `epochs`.\n",
      "  warnings.warn('The `nb_epoch` argument in `fit` '\n"
     ]
    },
    {
     "name": "stdout",
     "output_type": "stream",
     "text": [
      "Train on 48000 samples, validate on 12000 samples\n",
      "Epoch 1/10\n",
      "48000/48000 [==============================] - 3s 56us/step - loss: 0.3226 - acc: 0.9049 - val_loss: 0.1703 - val_acc: 0.9503\n",
      "Epoch 2/10\n",
      "48000/48000 [==============================] - 2s 45us/step - loss: 0.1309 - acc: 0.9606 - val_loss: 0.1179 - val_acc: 0.9642\n",
      "Epoch 3/10\n",
      "48000/48000 [==============================] - 2s 45us/step - loss: 0.0917 - acc: 0.9721 - val_loss: 0.1082 - val_acc: 0.9673\n",
      "Epoch 4/10\n",
      "48000/48000 [==============================] - 2s 45us/step - loss: 0.0678 - acc: 0.9798 - val_loss: 0.0870 - val_acc: 0.9738\n",
      "Epoch 5/10\n",
      "48000/48000 [==============================] - 2s 45us/step - loss: 0.0539 - acc: 0.9833 - val_loss: 0.0856 - val_acc: 0.9732\n",
      "Epoch 6/10\n",
      "48000/48000 [==============================] - 2s 45us/step - loss: 0.0419 - acc: 0.9871 - val_loss: 0.0855 - val_acc: 0.9768\n",
      "Epoch 7/10\n",
      "48000/48000 [==============================] - 2s 45us/step - loss: 0.0342 - acc: 0.9895 - val_loss: 0.0951 - val_acc: 0.9721\n",
      "Epoch 8/10\n",
      "48000/48000 [==============================] - 2s 45us/step - loss: 0.0277 - acc: 0.9914 - val_loss: 0.0914 - val_acc: 0.9728\n",
      "Epoch 9/10\n",
      "48000/48000 [==============================] - 2s 45us/step - loss: 0.0203 - acc: 0.9941 - val_loss: 0.0917 - val_acc: 0.9747\n",
      "Epoch 10/10\n",
      "48000/48000 [==============================] - 2s 45us/step - loss: 0.0167 - acc: 0.9951 - val_loss: 0.0831 - val_acc: 0.9776\n",
      "10000/10000 [==============================] - 0s 20us/step\n",
      "\n",
      " test acc 0.9781\n",
      "{'val_loss': [0.17025093920280537, 0.1178773719513168, 0.10822203538380563, 0.08700095510358612, 0.08557422427382941, 0.08552250333844373, 0.0951240796558171, 0.09139279411171447, 0.09166442071048854, 0.08311581741150197], 'val_acc': [0.9503333333333334, 0.9641666666666666, 0.9673333333333334, 0.97375, 0.97325, 0.97675, 0.9720833333333333, 0.97275, 0.9746666666666667, 0.9775833333333334], 'loss': [0.32255915349535647, 0.1308740166860322, 0.09166584200893219, 0.06777266517910176, 0.05394026271265466, 0.04188506734093729, 0.03424398590416725, 0.027736158289801097, 0.020312594279152107, 0.01665121092492579], 'acc': [0.9049375, 0.9605833333333333, 0.9721458333333334, 0.9797916666666666, 0.9833125, 0.987125, 0.9894791666666667, 0.9913958333333334, 0.9940625, 0.9950833333333333]}\n"
     ]
    }
   ],
   "source": [
    "# -*- coding: utf-8 -*-\n",
    "\"\"\"\n",
    "Created on Thu Nov 23 12:42:37 2017\n",
    "@author: wilms\n",
    "\"\"\"\n",
    "\n",
    "# 3. Import libraries and modules\n",
    "import numpy as np\n",
    "np.random.seed(123)  # for reproducibility\n",
    " \n",
    "from keras.models import Sequential\n",
    "from keras.layers import Dense, Activation, Flatten\n",
    "from keras.layers import Convolution2D, MaxPooling2D\n",
    "from keras.utils import np_utils\n",
    "from keras.optimizers import SGD\n",
    "from keras.datasets import mnist\n",
    "\n",
    "(X_train, y_train), (X_test, y_test) = mnist.load_data()\n",
    "\n",
    "X_train = X_train.reshape(X_train.shape[0], 28, 28, 1)\n",
    "X_test = X_test.reshape(X_test.shape[0], 28, 28, 1)\n",
    "X_train = X_train.astype('float32')\n",
    "X_test = X_test.astype('float32')\n",
    "X_train /= 255\n",
    "X_test /= 255\n",
    " \n",
    "Y_train = np_utils.to_categorical(y_train, 10)\n",
    "Y_test = np_utils.to_categorical(y_test, 10)\n",
    " \n",
    "model = Sequential()\n",
    " \n",
    " \n",
    "model.add(Flatten(input_shape=(28,28,1)))\n",
    "model.add(Dense(128, activation='relu'))\n",
    "model.add(Dense(128, activation='relu'))\n",
    "model.add(Dense(10, activation='softmax'))\n",
    " \n",
    "model.compile(loss='categorical_crossentropy',\n",
    "              optimizer=SGD(lr=0.01, momentum=0.9),\n",
    "              metrics=['accuracy'])\n",
    " \n",
    "history = model.fit(X_train, Y_train, \n",
    "          batch_size=32, nb_epoch=10, validation_split=0.2,verbose=1)\n",
    " \n",
    "score = model.evaluate(X_test, Y_test, verbose=1)\n",
    "print('\\n', 'test acc', score[1])\n",
    "\n",
    "print(history.history)"
   ]
  },
  {
   "cell_type": "code",
   "execution_count": null,
   "metadata": {},
   "outputs": [],
   "source": []
  }
 ],
 "metadata": {
  "kernelspec": {
   "display_name": "Python 3",
   "language": "python",
   "name": "python3"
  },
  "language_info": {
   "codemirror_mode": {
    "name": "ipython",
    "version": 3
   },
   "file_extension": ".py",
   "mimetype": "text/x-python",
   "name": "python",
   "nbconvert_exporter": "python",
   "pygments_lexer": "ipython3",
   "version": "3.6.5"
  }
 },
 "nbformat": 4,
 "nbformat_minor": 2
}
