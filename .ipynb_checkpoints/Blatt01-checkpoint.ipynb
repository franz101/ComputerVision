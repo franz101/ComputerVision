{
 "cells": [
  {
   "cell_type": "code",
   "execution_count": 99,
   "metadata": {},
   "outputs": [],
   "source": [
    "# -*- coding: utf-8 -*-\n",
    "\"\"\"\n",
    "Created on Thu Apr 19 14:54:31 2018\n",
    "\n",
    "@author: 6Zhilins\n",
    "\"\"\"\n",
    "import numpy as np\n",
    "from sklearn.metrics import confusion_matrix\n",
    "import pandas as pd\n",
    "import time\n",
    "\n",
    "#1.1. Laden der Daten:\n",
    "d = np.load('./trainingsDaten.npz')\n",
    "train_imgs = d['data']\n",
    "train_labels = d['labels']\n",
    "\n",
    "t = np.load('./validierungsDaten.npz')\n",
    "test_imgs = t['data']\n",
    "test_labels = t['labels']\n",
    "\n",
    "#Erstes Bild und Label auslesen:\n",
    "img1 = train_imgs[0,:,:] \n",
    "label1 = train_labels[0] \n",
    "\n",
    "#1.2. Mittelwert jedes Bildes\n",
    "\n",
    "train_data_mean = np.mean(tr_imgs,axis=(2,1))\n",
    "test_data_mean = np.mean(test_imgs,axis=(2,1))"
   ]
  },
  {
   "cell_type": "code",
   "execution_count": 539,
   "metadata": {},
   "outputs": [],
   "source": [
    "#1.3. \n",
    "def predict_mean(train,test,train_labels):\n",
    "    # Ein Array Umwandeln in 2D und dabei die erste Reihe wiederholen.\n",
    "    test_matrix = np.tile(test,([len(train),1])).T\n",
    "    # Euklidische Distanz ausrechnen (Absolute umgeht Wurzel und Quadrat)\n",
    "    test_distance_matrix = np.absolute(test_matrix - train)\n",
    "    # Indice der kleinsten Werte anzeigen lassen\n",
    "    indices = np.argmin(test_distance_matrix,1) \n",
    "    # Werte der Indice ausgeben\n",
    "    \n",
    "    return np.take(train_labels, indices)"
   ]
  },
  {
   "cell_type": "code",
   "execution_count": 540,
   "metadata": {},
   "outputs": [
    {
     "data": {
      "text/plain": [
       "0.2"
      ]
     },
     "execution_count": 540,
     "metadata": {},
     "output_type": "execute_result"
    }
   ],
   "source": [
    "#1.4.\n",
    "prediction_labels =  predict_mean(train_data_mean,test_data_mean,train_labels)\n",
    "evaluation = compare_train_test(prediction_labels,test_labels)\n",
    "np.mean(prediction_labels == test_labels)\n",
    "\n",
    "# Das Ergebnis ist inakzeptabel da es größer als 1/3 sein sollte."
   ]
  },
  {
   "cell_type": "code",
   "execution_count": 542,
   "metadata": {},
   "outputs": [
    {
     "data": {
      "text/plain": [
       "0.43333333333333335"
      ]
     },
     "execution_count": 542,
     "metadata": {},
     "output_type": "execute_result"
    }
   ],
   "source": [
    "#1.5\n",
    "train_data_std = np.std(tr_imgs,axis=(2,1))\n",
    "test_data_std = np.std(test_imgs,axis=(2,1))\n",
    "train_mean_std = np.column_stack((train_data_mean,train_data_std))\n",
    "test_mean_std = np.column_stack((test_data_mean,test_data_std))\n",
    "\n",
    "def predict_mean_std(train,test,train_labels):\n",
    "    test_matrix = np.tile(test, (30,2,1,))\n",
    "    train_matrix = np.tile(train,(len(test))).reshape((30, 60, 2))\n",
    "    # Euklidische Distanz ausrechnen (Absolute umgeht Wurzel und Quadrat)\n",
    "    test_distance_matrix = np.absolute(test_matrix-train_matrix).sum(axis=2)\n",
    "    # Indice der kleinsten Werte anzeigen lassen\n",
    "    indices = np.argmin(test_distance_matrix,1) \n",
    "    # Werte der Indice ausgeben\n",
    "    prediction_labels = np.take(train_labels, indices)\n",
    "    return prediction_labels\n",
    "\n",
    "prediction_labels = predict_mean_std(train_mean_std, test_mean_std, train_labels)\n",
    "np.mean(prediction_labels == test_labels)\n",
    "# Das Ergebnis ist besser da es größer als 1/3 ist."
   ]
  },
  {
   "cell_type": "code",
   "execution_count": 491,
   "metadata": {},
   "outputs": [],
   "source": [
    "2.\n",
    "#This function is able to return one of eight different matrix norms, \n",
    "#or one of an infinite number of vector norms (described below), \n",
    "#depending on the value of the ord parameter.\n",
    "#None -> Frobenius norm:\n",
    "#The Frobenius norm, sometimes also called the Euclidean norm\n",
    "#(a term unfortunately also used for the vector -norm),\n",
    "#is matrix norm of an matrix defined as the square root\n",
    "#of the sum of the absolute squares of its elements,\n",
    "#(Golub and van Loan 1996, p. 55).\n",
    "\n",
    "def predict_labels(measure_of_training_data, measure_of_test_data, train_labels,test_labels):\n",
    "    results = []\n",
    "    for test_img in measure_of_test_data:\n",
    "        results.append([np.linalg.norm(test_img,train_img) for train_img in measure_of_training_data])\n",
    "\n",
    "    indices = np.argmin(results, 1)\n",
    "    predicted_labels = [train_labels[x] for x in indices]\n",
    "    return predicted_labels\n",
    "\n",
    "hist_of_training_data = [np.histogram(img, bins = 8, range = (0,256))[0] for img in tr_imgs]\n",
    "hist_of_test_data = [np.histogram(img, bins = 8, range = (0,256))[0] for img in test_imgs]\n",
    "predicted_labels2 = predict_labels(hist_of_training_data, hist_of_test_data,  tr_labels,test_labels)\n",
    "\n",
    "np.mean(predicted_labels2 == test_labels)\n",
    "\n",
    "success = 0\n",
    "\n",
    "for bin_num in range(1,256):\n",
    "    hist_of_training_data = [np.histogram(img, bins = bin_num, range = (0,256))[0] for img in tr_imgs]\n",
    "    hist_of_test_data = [np.histogram(img, bins = bin_num, range = (0,256))[0] for img in test_imgs]\n",
    "    predicted_labels = predict_labels(hist_of_training_data, hist_of_test_data,  tr_labels,test_labels)\n",
    "    rate = np.mean(predicted_labels == test_labels)\n",
    "    if rate > success:\n",
    "        success = rate\n",
    "        success_bin = bin_num\n",
    "        prediction = predicted_labels"
   ]
  },
  {
   "cell_type": "code",
   "execution_count": 494,
   "metadata": {},
   "outputs": [
    {
     "name": "stdout",
     "output_type": "stream",
     "text": [
      "0.5666666666666667 255\n"
     ]
    }
   ],
   "source": [
    "print(success,bin_num)"
   ]
  },
  {
   "cell_type": "code",
   "execution_count": 496,
   "metadata": {},
   "outputs": [
    {
     "name": "stdout",
     "output_type": "stream",
     "text": [
      "       Autos Hirsch Schiff\n",
      "Autos     16      1      3\n",
      "Hirsch     6      7      7\n",
      "Schiff     9      4      7\n"
     ]
    }
   ],
   "source": [
    "#3.\n",
    "con_matrix = confusion_matrix(tr_labels, prediction2)\n",
    "con_matrix_df = pd.DataFrame(con_matrix, columns=[['Autos',\"Hirsch\",\"Schiff\"]])\n",
    "con_matrix_df.index = ['Autos',\"Hirsch\",\"Schiff\"]\n",
    "print(con_matrix_df)"
   ]
  },
  {
   "cell_type": "code",
   "execution_count": 532,
   "metadata": {},
   "outputs": [],
   "source": [
    "from sklearn.neighbors import KNeighborsClassifier\n",
    "\n",
    "X = train_imgs\n",
    "y = tr_labels\n",
    "neigh = KNeighborsClassifier(n_neighbors=5)\n",
    "dataset_size = len(X)\n",
    "X = X.reshape(dataset_size,-1)\n",
    "neigh.fit(X, y) # doctest: +ELLIPSIS\n",
    "\n",
    "X0 = test_imgs\n",
    "dataset_size = len(X0)\n",
    "X0 = X0.reshape(dataset_size,-1)\n",
    "prediction = neigh.predict(X0)"
   ]
  },
  {
   "cell_type": "code",
   "execution_count": 543,
   "metadata": {},
   "outputs": [
    {
     "name": "stdout",
     "output_type": "stream",
     "text": [
      "25.8 µs ± 669 ns per loop (mean ± std. dev. of 7 runs, 10000 loops each)\n"
     ]
    }
   ],
   "source": [
    "%%timeit\n",
    "predict_mean(train_data_mean,test_data_mean,train_labels)"
   ]
  },
  {
   "cell_type": "code",
   "execution_count": 545,
   "metadata": {},
   "outputs": [
    {
     "name": "stdout",
     "output_type": "stream",
     "text": [
      "84.3 µs ± 1.97 µs per loop (mean ± std. dev. of 7 runs, 10000 loops each)\n"
     ]
    }
   ],
   "source": [
    "%%timeit\n",
    "predict_mean_std(train_mean_std, test_mean_std, train_labels)"
   ]
  },
  {
   "cell_type": "code",
   "execution_count": 549,
   "metadata": {},
   "outputs": [
    {
     "name": "stdout",
     "output_type": "stream",
     "text": [
      "12.5 ms ± 312 µs per loop (mean ± std. dev. of 7 runs, 100 loops each)\n"
     ]
    }
   ],
   "source": [
    "%%timeit\n",
    "results = []\n",
    "for train_img in train_data_mean:\n",
    "    results.append([euclidian_distance(train_img,b) for b in test_mean_std])\n",
    "\n",
    "minima = np.argmin(results,1)\n",
    "predicted_labels = [test_labels[x] for x in minima]"
   ]
  },
  {
   "cell_type": "code",
   "execution_count": 551,
   "metadata": {},
   "outputs": [],
   "source": [
    "tock = time.time()\n",
    "tick = time.time() #Timer off\n",
    "tick_tock2=tick-tock #berechen ob wie viele Zeit hat das geläuft"
   ]
  }
 ],
 "metadata": {
  "kernelspec": {
   "display_name": "Python 3",
   "language": "python",
   "name": "python3"
  },
  "language_info": {
   "codemirror_mode": {
    "name": "ipython",
    "version": 3
   },
   "file_extension": ".py",
   "mimetype": "text/x-python",
   "name": "python",
   "nbconvert_exporter": "python",
   "pygments_lexer": "ipython3",
   "version": "3.6.4"
  }
 },
 "nbformat": 4,
 "nbformat_minor": 2
}
