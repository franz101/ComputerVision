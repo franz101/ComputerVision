{
 "cells": [
  {
   "cell_type": "code",
   "execution_count": 1,
   "metadata": {},
   "outputs": [
    {
     "name": "stderr",
     "output_type": "stream",
     "text": [
      "/home/kkrauser/anaconda3/lib/python3.6/site-packages/h5py/__init__.py:36: FutureWarning: Conversion of the second argument of issubdtype from `float` to `np.floating` is deprecated. In future, it will be treated as `np.float64 == np.dtype(float).type`.\n",
      "  from ._conv import register_converters as _register_converters\n"
     ]
    },
    {
     "name": "stdout",
     "output_type": "stream",
     "text": [
      "[name: \"/device:CPU:0\"\n",
      "device_type: \"CPU\"\n",
      "memory_limit: 268435456\n",
      "locality {\n",
      "}\n",
      "incarnation: 12433335612865354679\n",
      ", name: \"/device:GPU:0\"\n",
      "device_type: \"GPU\"\n",
      "memory_limit: 6925464372\n",
      "locality {\n",
      "  bus_id: 1\n",
      "  links {\n",
      "  }\n",
      "}\n",
      "incarnation: 2538236474182556279\n",
      "physical_device_desc: \"device: 0, name: GeForce GTX 1070, pci bus id: 0000:01:00.0, compute capability: 6.1\"\n",
      "]\n"
     ]
    }
   ],
   "source": [
    "from tensorflow.python.client import device_lib\n",
    "import tensorflow as tf\n",
    "print(device_lib.list_local_devices())"
   ]
  },
  {
   "cell_type": "code",
   "execution_count": 2,
   "metadata": {},
   "outputs": [
    {
     "name": "stderr",
     "output_type": "stream",
     "text": [
      "Using TensorFlow backend.\n"
     ]
    },
    {
     "data": {
      "text/plain": [
       "['/job:localhost/replica:0/task:0/device:GPU:0']"
      ]
     },
     "execution_count": 2,
     "metadata": {},
     "output_type": "execute_result"
    }
   ],
   "source": [
    "from keras import backend as K\n",
    "K.tensorflow_backend._get_available_gpus()"
   ]
  },
  {
   "cell_type": "code",
   "execution_count": 3,
   "metadata": {},
   "outputs": [],
   "source": [
    "import numpy as np\n",
    "from bilderGenerator import zieheBilder\n",
    "import matplotlib.pyplot as plt\n",
    "test = zieheBilder(50)\n",
    "train = zieheBilder(500)"
   ]
  },
  {
   "cell_type": "code",
   "execution_count": 4,
   "metadata": {},
   "outputs": [],
   "source": [
    "from keras.models import Sequential\n",
    "from keras.layers import Dense\n",
    "from keras.layers import Flatten\n",
    "\n",
    "from keras.utils import np_utils\n",
    "from keras.optimizers import SGD\n",
    "\n",
    "import numpy as np\n",
    "np.random.seed(123) #um die Gewichte immer gleich zufaellig zu initialisieren\n",
    "from tensorflow import set_random_seed\n",
    "set_random_seed(123) # um die Gewichte immer gleichzufaellig zu initialisieren"
   ]
  },
  {
   "cell_type": "code",
   "execution_count": 5,
   "metadata": {},
   "outputs": [],
   "source": [
    "X_train = np.dstack(train[:2])[0]#X_train.reshape(X_train.shape[0], 28, 28, 1)\n",
    "X_test = np.dstack(test[:2])[0]#X_test.reshape(X_test.shape[0], 28, 28, 1)\n",
    "X_train = X_train.astype('float32')\n",
    "X_test = X_test.astype('float32')\n",
    " \n",
    "Y_train = np_utils.to_categorical(train[2]==1,2)\n",
    "Y_test = np_utils.to_categorical(test[2]==1,2)\n",
    "X_train = X_train.reshape(X_train.shape[0], 2, 1)\n",
    "X_test = X_test.reshape(X_test.shape[0], 2, 1) "
   ]
  },
  {
   "cell_type": "code",
   "execution_count": 6,
   "metadata": {},
   "outputs": [],
   "source": [
    "from keras.callbacks import TensorBoard"
   ]
  },
  {
   "cell_type": "code",
   "execution_count": 7,
   "metadata": {},
   "outputs": [
    {
     "name": "stdout",
     "output_type": "stream",
     "text": [
      "WARNING:tensorflow:From /home/kkrauser/anaconda3/lib/python3.6/site-packages/tensorflow/contrib/learn/python/learn/datasets/base.py:198: retry (from tensorflow.contrib.learn.python.learn.datasets.base) is deprecated and will be removed in a future version.\n",
      "Instructions for updating:\n",
      "Use the retry module or similar alternatives.\n"
     ]
    }
   ],
   "source": [
    "tensorboard = TensorBoard(log_dir='./logs', histogram_freq=0,\n",
    "                          write_graph=True, write_images=False)"
   ]
  },
  {
   "cell_type": "code",
   "execution_count": 9,
   "metadata": {},
   "outputs": [
    {
     "name": "stderr",
     "output_type": "stream",
     "text": [
      "/home/kkrauser/anaconda3/lib/python3.6/site-packages/keras/models.py:942: UserWarning: The `nb_epoch` argument in `fit` has been renamed `epochs`.\n",
      "  warnings.warn('The `nb_epoch` argument in `fit` '\n"
     ]
    },
    {
     "name": "stdout",
     "output_type": "stream",
     "text": [
      "Train on 800 samples, validate on 200 samples\n",
      "Epoch 1/10\n",
      "800/800 [==============================] - 1s 740us/step - loss: 8.0014 - acc: 0.4987 - val_loss: 8.7844 - val_acc: 0.4550\n",
      "Epoch 2/10\n",
      "800/800 [==============================] - 0s 45us/step - loss: 7.8777 - acc: 0.5112 - val_loss: 8.7844 - val_acc: 0.4550\n",
      "Epoch 3/10\n",
      "800/800 [==============================] - 0s 44us/step - loss: 7.8777 - acc: 0.5112 - val_loss: 8.7844 - val_acc: 0.4550\n",
      "Epoch 4/10\n",
      "800/800 [==============================] - 0s 46us/step - loss: 7.8777 - acc: 0.5112 - val_loss: 8.7844 - val_acc: 0.4550\n",
      "Epoch 5/10\n",
      "800/800 [==============================] - 0s 55us/step - loss: 7.8777 - acc: 0.5112 - val_loss: 8.7844 - val_acc: 0.4550\n",
      "Epoch 6/10\n",
      "800/800 [==============================] - 0s 45us/step - loss: 7.8777 - acc: 0.5112 - val_loss: 8.7844 - val_acc: 0.4550\n",
      "Epoch 7/10\n",
      "800/800 [==============================] - 0s 45us/step - loss: 7.8777 - acc: 0.5112 - val_loss: 8.7844 - val_acc: 0.4550\n",
      "Epoch 8/10\n",
      "800/800 [==============================] - 0s 45us/step - loss: 7.8777 - acc: 0.5112 - val_loss: 8.7844 - val_acc: 0.4550\n",
      "Epoch 9/10\n",
      "800/800 [==============================] - 0s 45us/step - loss: 7.8777 - acc: 0.5112 - val_loss: 8.7844 - val_acc: 0.4550\n",
      "Epoch 10/10\n",
      "800/800 [==============================] - 0s 49us/step - loss: 7.8777 - acc: 0.5112 - val_loss: 8.7844 - val_acc: 0.4550\n",
      "100/100 [==============================] - 0s 29us/step\n",
      "\n",
      " test acc 0.5\n",
      "{'val_loss': [8.784362258911132, 8.784362258911132, 8.784362258911132, 8.784362258911132, 8.784362258911132, 8.784362258911132, 8.784362258911132, 8.784362258911132, 8.784362258911132, 8.784362258911132], 'val_acc': [0.455, 0.455, 0.455, 0.455, 0.455, 0.455, 0.455, 0.455, 0.455, 0.455], 'loss': [8.00143518447876, 7.877719249725342, 7.877719249725342, 7.877719249725342, 7.8777192687988284, 7.877719211578369, 7.877719249725342, 7.877719125747681, 7.877719249725342, 7.877719192504883], 'acc': [0.49875, 0.51125, 0.51125, 0.51125, 0.51125, 0.51125, 0.51125, 0.51125, 0.51125, 0.51125]}\n"
     ]
    }
   ],
   "source": [
    "model = Sequential() \n",
    " \n",
    "model.add(Flatten(input_shape=(2,1)))\n",
    "model.add(Dense(128, activation='relu'))\n",
    "model.add(Dense(128, activation='relu'))\n",
    "model.add(Dense(2, activation='softmax'))\n",
    " \n",
    "model.compile(loss='categorical_crossentropy',\n",
    "              optimizer=SGD(lr=0.01, momentum=0.9),\n",
    "              metrics=['accuracy'])\n",
    " \n",
    "history = model.fit(X_train, Y_train, \n",
    "          batch_size=32, nb_epoch=10, validation_split=0.2,verbose=1, callbacks=[tensorboard])\n",
    " \n",
    "score = model.evaluate(X_test, Y_test, verbose=1)\n",
    "print('\\n', 'test acc', score[1])\n",
    "\n",
    "print(history.history)"
   ]
  }
 ],
 "metadata": {
  "kernelspec": {
   "display_name": "Python 3",
   "language": "python",
   "name": "python3"
  },
  "language_info": {
   "codemirror_mode": {
    "name": "ipython",
    "version": 3
   },
   "file_extension": ".py",
   "mimetype": "text/x-python",
   "name": "python",
   "nbconvert_exporter": "python",
   "pygments_lexer": "ipython3",
   "version": "3.6.5"
  }
 },
 "nbformat": 4,
 "nbformat_minor": 2
}
