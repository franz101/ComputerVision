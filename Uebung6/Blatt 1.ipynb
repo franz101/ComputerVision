{
 "cells": [
  {
   "cell_type": "code",
   "execution_count": 6,
   "metadata": {},
   "outputs": [],
   "source": [
    "import numpy as np\n",
    "from bilderGenerator import zieheBilder\n",
    "import matplotlib.pyplot as plt"
   ]
  },
  {
   "cell_type": "code",
   "execution_count": 2,
   "metadata": {},
   "outputs": [],
   "source": [
    "test = zieheBilder(50)\n",
    "train = zieheBilder(500)"
   ]
  },
  {
   "cell_type": "code",
   "execution_count": 46,
   "metadata": {},
   "outputs": [
    {
     "data": {
      "image/png": "[encoded data removed]",
      "text/plain": [
       "<matplotlib.figure.Figure at 0x114bea358>"
      ]
     },
     "metadata": {},
     "output_type": "display_data"
    }
   ],
   "source": [
    "%matplotlib inline\n",
    "plt.close('all')\n",
    "colors = ['red','blue','red']\n",
    "for i in range(len(test[0])):\n",
    "    plt.plot(test[0][i], test[1][i],'ro', color= colors[test[2][i]])"
   ]
  },
  {
   "cell_type": "code",
   "execution_count": 52,
   "metadata": {},
   "outputs": [],
   "source": [
    "test_y = []\n",
    "train_y = []\n",
    "w1 = 0.0001\n",
    "w2 = -0.0002\n",
    "b = 0.001\n",
    "def y(x1,x2):\n",
    "    return w1 *x1 +w2 *x2 +b\n",
    "for i in range(len(test[0])):\n",
    "    test_y.append(y(test[0][i],test[1][i]))\n",
    "for i in range(len(train[0])):\n",
    "    train_y.append(y(train[0][i],train[1][i]))"
   ]
  },
  {
   "cell_type": "code",
   "execution_count": 59,
   "metadata": {},
   "outputs": [],
   "source": [
    "train_y = np.array(train_y)<0\n",
    "test_y = np.array(test_y)<0\n",
    "test_bool = test[2] == 1\n",
    "train_bool = train[2] == 1"
   ]
  },
  {
   "cell_type": "code",
   "execution_count": 67,
   "metadata": {},
   "outputs": [],
   "source": [
    "train_acc = train_y == train_bool\n",
    "test_acc = test_y == test_bool"
   ]
  },
  {
   "cell_type": "code",
   "execution_count": 77,
   "metadata": {},
   "outputs": [
    {
     "name": "stdout",
     "output_type": "stream",
     "text": [
      "Train Score 0.952\n",
      "Test Score 0.5\n"
     ]
    }
   ],
   "source": [
    "print(\"Train Score\",str(np.mean(train_acc)))\n",
    "print(\"Test Score\",str(np.mean(test_acc)))"
   ]
  },
  {
   "cell_type": "code",
   "execution_count": 89,
   "metadata": {},
   "outputs": [],
   "source": [
    "def l(x1,x2):\n",
    "    return (w1 *x1 +w2 *x2 +b -t)**2\n",
    "def lw1(x1,x2):\n",
    "    return 2*(w1 *x1 +w2 *x2 +b -t)*x1\n",
    "def lw2(x1,x2):\n",
    "    return 2*(w1 *x1 +w2 *x2 +b-t)*x2\n",
    "def lb(x1,x2):\n",
    "    return 2*(w1 *x1 +w2 *x2 +b-t)"
   ]
  },
  {
   "cell_type": "code",
   "execution_count": 90,
   "metadata": {},
   "outputs": [
    {
     "name": "stdout",
     "output_type": "stream",
     "text": [
      "1.010308388388179\n",
      "1.0147186750422024\n",
      "1.0076658807008423\n",
      "1.001064616403925\n",
      "1.0030786599303552\n",
      "1.002611253634675\n",
      "1.0114013358209555\n",
      "1.0033169464462501\n",
      "1.0068425068741542\n",
      "1.000078120443542\n",
      "1.0073537027354524\n",
      "1.0072222346802362\n",
      "1.0079676180338815\n",
      "1.0074092825623417\n",
      "1.0001687325998307\n",
      "1.006712044475723\n",
      "1.002716427847075\n",
      "1.0028461363476109\n",
      "1.0086296512807271\n",
      "1.0074609965134913\n",
      "1.011439781670828\n",
      "1.0040126280826793\n",
      "1.0132655846467997\n",
      "1.0083757686402357\n",
      "1.008975229506553\n",
      "1.0136601689839855\n",
      "1.002516462437929\n",
      "1.0065582592620055\n",
      "1.0120932702984733\n",
      "1.0113006738806023\n",
      "1.0065252270026837\n",
      "1.006429540905563\n",
      "1.0022672441337657\n",
      "1.0152817841397648\n",
      "1.0060231942431095\n",
      "1.0045580428786114\n",
      "1.0160057398322018\n",
      "1.0035508621510898\n",
      "1.0034857595297246\n",
      "1.0007229106264757\n",
      "1.0171206847493213\n",
      "1.0074399054513303\n",
      "1.0107906032984013\n",
      "1.0089570957270193\n",
      "1.0012168157969117\n",
      "1.0071115894848661\n",
      "1.010701183468312\n",
      "1.0041562450764514\n",
      "1.0018269323768163\n",
      "1.0048654090888673\n",
      "1.0119928657322075\n",
      "1.0154436544484664\n",
      "1.0050933330936653\n",
      "1.0025822873164367\n",
      "1.002994278732926\n",
      "1.001914569842646\n",
      "1.0157049181293902\n",
      "1.00918416443566\n",
      "1.0035909901049214\n",
      "1.0168981933497157\n",
      "1.003352318464711\n",
      "1.0064360792892857\n",
      "1.0009851305511512\n"
     ]
    },
    {
     "ename": "IndexError",
     "evalue": "index 100 is out of bounds for axis 0 with size 100",
     "output_type": "error",
     "traceback": [
      "\u001b[0;31m---------------------------------------------------------------------------\u001b[0m",
      "\u001b[0;31mIndexError\u001b[0m                                Traceback (most recent call last)",
      "\u001b[0;32m<ipython-input-90-43464c74c921>\u001b[0m in \u001b[0;36m<module>\u001b[0;34m()\u001b[0m\n\u001b[1;32m      3\u001b[0m \u001b[0mb\u001b[0m \u001b[0;34m=\u001b[0m \u001b[0;36m0.001\u001b[0m\u001b[0;34m\u001b[0m\u001b[0m\n\u001b[1;32m      4\u001b[0m \u001b[0;32mfor\u001b[0m \u001b[0mi\u001b[0m\u001b[0;34m,\u001b[0m\u001b[0mx\u001b[0m \u001b[0;32min\u001b[0m \u001b[0menumerate\u001b[0m\u001b[0;34m(\u001b[0m\u001b[0mtrain\u001b[0m\u001b[0;34m[\u001b[0m\u001b[0;36m0\u001b[0m\u001b[0;34m]\u001b[0m\u001b[0;34m)\u001b[0m\u001b[0;34m:\u001b[0m\u001b[0;34m\u001b[0m\u001b[0m\n\u001b[0;32m----> 5\u001b[0;31m     \u001b[0m_y\u001b[0m \u001b[0;34m=\u001b[0m\u001b[0mtest\u001b[0m\u001b[0;34m[\u001b[0m\u001b[0;36m1\u001b[0m\u001b[0;34m]\u001b[0m\u001b[0;34m[\u001b[0m\u001b[0mi\u001b[0m\u001b[0;34m]\u001b[0m\u001b[0;34m\u001b[0m\u001b[0m\n\u001b[0m\u001b[1;32m      6\u001b[0m     \u001b[0mpredict_label\u001b[0m \u001b[0;34m=\u001b[0m \u001b[0my\u001b[0m\u001b[0;34m(\u001b[0m\u001b[0mx\u001b[0m\u001b[0;34m,\u001b[0m\u001b[0m_y\u001b[0m\u001b[0;34m)\u001b[0m \u001b[0;34m>\u001b[0m\u001b[0;36m0\u001b[0m\u001b[0;34m\u001b[0m\u001b[0m\n\u001b[1;32m      7\u001b[0m     \u001b[0mlabel\u001b[0m \u001b[0;34m=\u001b[0m \u001b[0mtest\u001b[0m\u001b[0;34m[\u001b[0m\u001b[0;36m2\u001b[0m\u001b[0;34m]\u001b[0m\u001b[0;34m[\u001b[0m\u001b[0mi\u001b[0m\u001b[0;34m]\u001b[0m\u001b[0;34m==\u001b[0m\u001b[0;36m1\u001b[0m\u001b[0;34m\u001b[0m\u001b[0m\n",
      "\u001b[0;31mIndexError\u001b[0m: index 100 is out of bounds for axis 0 with size 100"
     ]
    }
   ],
   "source": [
    "w1 = 0.0001\n",
    "w2 = -0.0002\n",
    "b = 0.001\n",
    "for i,x in enumerate(train[0]):\n",
    "    _y =test[1][i]\n",
    "    predict_label = y(x,_y) >0\n",
    "    label = test[2][i]==1\n",
    "    t = test[2][i]\n",
    "    if not predict_label==label:\n",
    "        print(l(x,_y))"
   ]
  }
 ],
 "metadata": {
  "kernelspec": {
   "display_name": "Python 3",
   "language": "python",
   "name": "python3"
  },
  "language_info": {
   "codemirror_mode": {
    "name": "ipython",
    "version": 3
   },
   "file_extension": ".py",
   "mimetype": "text/x-python",
   "name": "python",
   "nbconvert_exporter": "python",
   "pygments_lexer": "ipython3",
   "version": "3.6.4"
  }
 },
 "nbformat": 4,
 "nbformat_minor": 2
}
