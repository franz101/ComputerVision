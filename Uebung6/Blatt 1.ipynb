{
 "cells": [
  {
   "cell_type": "code",
   "execution_count": 1,
   "metadata": {
    "ExecuteTime": {
     "end_time": "2018-05-21T11:03:50.157189Z",
     "start_time": "2018-05-21T11:03:49.875074Z"
    }
   },
   "outputs": [],
   "source": [
    "import numpy as np\n",
    "from bilderGenerator import zieheBilder\n",
    "import matplotlib.pyplot as plt"
   ]
  },
  {
   "cell_type": "code",
   "execution_count": 2,
   "metadata": {
    "ExecuteTime": {
     "end_time": "2018-05-21T11:03:50.983206Z",
     "start_time": "2018-05-21T11:03:50.952462Z"
    }
   },
   "outputs": [],
   "source": [
    "test = zieheBilder(50)\n",
    "train = zieheBilder(500)"
   ]
  },
  {
   "cell_type": "code",
   "execution_count": null,
   "metadata": {},
   "outputs": [],
   "source": [
    "%matplotlib inline\n",
    "plt.close('all')\n",
    "colors = ['red','blue','red']\n",
    "for i in range(len(test[0])):\n",
    "    plt.plot(test[0][i], test[1][i],'ro', color= colors[test[2][i]])"
   ]
  },
  {
   "cell_type": "code",
   "execution_count": 129,
   "metadata": {
    "collapsed": true
   },
   "outputs": [],
   "source": [
    "w1 = 0.0001\n",
    "w2 = -0.0002\n",
    "b = 0.001\n",
    "def y(x1,x2):\n",
    "    return w1 *x1 +w2 *x2 +b"
   ]
  },
  {
   "cell_type": "code",
   "execution_count": 141,
   "metadata": {
    "collapsed": true
   },
   "outputs": [],
   "source": [
    "def print_acc():\n",
    "    global w1,w2,b,a\n",
    "    test_y = []\n",
    "    train_y = []\n",
    "    for i in range(len(test[0])):\n",
    "        test_y.append(y(test[0][i],test[1][i]))\n",
    "    for i in range(len(train[0])):\n",
    "        train_y.append(y(train[0][i],train[1][i]))\n",
    "    train_y = np.array(train_y)>0\n",
    "    test_y = np.array(test_y)>0\n",
    "    test_bool = test[2] == 1\n",
    "    train_bool = train[2] == 1\n",
    "    train_acc = train_y == train_bool\n",
    "    test_acc = test_y == test_bool\n",
    "    train_acc = np.mean(train_acc)\n",
    "    test_acc = np.mean(test_acc)\n",
    "    print(\"Train Score\",str(train_acc))\n",
    "    print(\"Test Score\",str(test_acc))\n",
    "    return train_acc,test_acc"
   ]
  },
  {
   "cell_type": "code",
   "execution_count": 142,
   "metadata": {},
   "outputs": [
    {
     "name": "stdout",
     "output_type": "stream",
     "text": [
      "Train Score 0.852\n",
      "Test Score 0.83\n"
     ]
    },
    {
     "data": {
      "text/plain": [
       "(0.852, 0.83)"
      ]
     },
     "execution_count": 142,
     "metadata": {},
     "output_type": "execute_result"
    }
   ],
   "source": [
    "print_acc()"
   ]
  },
  {
   "cell_type": "code",
   "execution_count": 105,
   "metadata": {
    "collapsed": true
   },
   "outputs": [],
   "source": [
    "def l(x1,x2):\n",
    "    return (w1 *x1 +w2 *x2 +b -t)**2\n",
    "def lw1(x1,x2):\n",
    "    return 2*(w1 *x1 +w2 *x2 +b -t)*x1\n",
    "def lw2(x1,x2):\n",
    "    return 2*(w1 *x1 +w2 *x2 +b-t)*x2\n",
    "def lb(x1,x2):\n",
    "    return 2*(w1 *x1 +w2 *x2 +b-t)"
   ]
  },
  {
   "cell_type": "code",
   "execution_count": 132,
   "metadata": {
    "collapsed": true
   },
   "outputs": [],
   "source": [
    "w1 = 0.0001\n",
    "w2 = -0.0002\n",
    "b = 0.001\n",
    "a = 0.0000005\n",
    "def train_data():\n",
    "    global w1,w2,b,a,t\n",
    "    for i,x in enumerate(train[0]):\n",
    "        _y =train[1][i]\n",
    "        predict_label = y(x,_y) >0\n",
    "        label = train[2][i]==1\n",
    "        t = train[2][i]\n",
    "        if not predict_label==label:\n",
    "            w1_neu = w1 - a*lw1(x,_y)\n",
    "            w2_neu = w2 - a*lw2(x,_y)\n",
    "            b_neu = b - a*lb(x,_y)\n",
    "            w1 = w1_neu\n",
    "            w2 = w2_neu\n",
    "            b = b_neu\n",
    "train_data()"
   ]
  },
  {
   "cell_type": "code",
   "execution_count": 133,
   "metadata": {},
   "outputs": [
    {
     "name": "stdout",
     "output_type": "stream",
     "text": [
      "Train Score 0.803\n",
      "Test Score 0.8\n"
     ]
    }
   ],
   "source": [
    "print_acc()"
   ]
  },
  {
   "cell_type": "code",
   "execution_count": 143,
   "metadata": {},
   "outputs": [
    {
     "name": "stdout",
     "output_type": "stream",
     "text": [
      "0.00031787397627118454 0.0022030884998351517 0.00047748130092281393\n",
      "Train Score 0.841\n",
      "Test Score 0.82\n",
      "Train Score 0.842\n",
      "Test Score 0.82\n",
      "Train Score 0.847\n",
      "Test Score 0.82\n",
      "Train Score 0.847\n",
      "Test Score 0.82\n",
      "Train Score 0.844\n",
      "Test Score 0.82\n",
      "Train Score 0.844\n",
      "Test Score 0.82\n",
      "Train Score 0.847\n",
      "Test Score 0.82\n",
      "Train Score 0.847\n",
      "Test Score 0.82\n",
      "Train Score 0.847\n",
      "Test Score 0.82\n",
      "Train Score 0.847\n",
      "Test Score 0.82\n",
      "Train Score 0.847\n",
      "Test Score 0.82\n",
      "Train Score 0.853\n",
      "Test Score 0.83\n",
      "Train Score 0.852\n",
      "Test Score 0.83\n",
      "Train Score 0.853\n",
      "Test Score 0.83\n",
      "Train Score 0.853\n",
      "Test Score 0.83\n",
      "Train Score 0.853\n",
      "Test Score 0.83\n",
      "Train Score 0.853\n",
      "Test Score 0.83\n",
      "Train Score 0.853\n",
      "Test Score 0.83\n",
      "Train Score 0.855\n",
      "Test Score 0.83\n",
      "Train Score 0.856\n",
      "Test Score 0.85\n",
      "Train Score 0.854\n",
      "Test Score 0.83\n",
      "Train Score 0.856\n",
      "Test Score 0.84\n",
      "Train Score 0.852\n",
      "Test Score 0.83\n",
      "Train Score 0.856\n",
      "Test Score 0.84\n",
      "Train Score 0.852\n",
      "Test Score 0.83\n",
      "Train Score 0.852\n",
      "Test Score 0.83\n",
      "Train Score 0.856\n",
      "Test Score 0.85\n",
      "Train Score 0.854\n",
      "Test Score 0.83\n",
      "Train Score 0.856\n",
      "Test Score 0.84\n",
      "Train Score 0.852\n",
      "Test Score 0.83\n",
      "Train Score 0.856\n",
      "Test Score 0.84\n",
      "Train Score 0.852\n",
      "Test Score 0.83\n",
      "Train Score 0.852\n",
      "Test Score 0.83\n",
      "Train Score 0.856\n",
      "Test Score 0.85\n",
      "Train Score 0.854\n",
      "Test Score 0.83\n",
      "Train Score 0.856\n",
      "Test Score 0.84\n",
      "Train Score 0.852\n",
      "Test Score 0.83\n",
      "Train Score 0.856\n",
      "Test Score 0.84\n",
      "Train Score 0.852\n",
      "Test Score 0.83\n",
      "Train Score 0.852\n",
      "Test Score 0.83\n",
      "Train Score 0.855\n",
      "Test Score 0.84\n",
      "Train Score 0.857\n",
      "Test Score 0.85\n",
      "Train Score 0.855\n",
      "Test Score 0.83\n",
      "Train Score 0.856\n",
      "Test Score 0.85\n",
      "Train Score 0.854\n",
      "Test Score 0.83\n",
      "Train Score 0.856\n",
      "Test Score 0.85\n",
      "Train Score 0.854\n",
      "Test Score 0.83\n",
      "Train Score 0.856\n",
      "Test Score 0.84\n",
      "Train Score 0.852\n",
      "Test Score 0.83\n",
      "Train Score 0.856\n",
      "Test Score 0.84\n",
      "Train Score 0.853\n",
      "Test Score 0.83\n",
      "Train Score 0.852\n",
      "Test Score 0.83\n",
      "Train Score 0.855\n",
      "Test Score 0.84\n",
      "Train Score 0.857\n",
      "Test Score 0.85\n",
      "Train Score 0.855\n",
      "Test Score 0.83\n",
      "Train Score 0.856\n",
      "Test Score 0.85\n",
      "Train Score 0.854\n",
      "Test Score 0.83\n",
      "Train Score 0.856\n",
      "Test Score 0.85\n",
      "Train Score 0.854\n",
      "Test Score 0.83\n",
      "Train Score 0.856\n",
      "Test Score 0.84\n",
      "Train Score 0.852\n",
      "Test Score 0.83\n",
      "Train Score 0.854\n",
      "Test Score 0.83\n",
      "Train Score 0.855\n",
      "Test Score 0.84\n",
      "Train Score 0.857\n",
      "Test Score 0.85\n",
      "Train Score 0.855\n",
      "Test Score 0.83\n",
      "Train Score 0.857\n",
      "Test Score 0.85\n",
      "Train Score 0.855\n",
      "Test Score 0.83\n",
      "Train Score 0.856\n",
      "Test Score 0.85\n",
      "Train Score 0.854\n",
      "Test Score 0.83\n",
      "Train Score 0.856\n",
      "Test Score 0.85\n",
      "Train Score 0.854\n",
      "Test Score 0.83\n",
      "Train Score 0.855\n",
      "Test Score 0.84\n",
      "Train Score 0.856\n",
      "Test Score 0.85\n",
      "Train Score 0.854\n",
      "Test Score 0.83\n",
      "Train Score 0.856\n",
      "Test Score 0.85\n",
      "Train Score 0.854\n",
      "Test Score 0.83\n",
      "Train Score 0.855\n",
      "Test Score 0.83\n",
      "Train Score 0.856\n",
      "Test Score 0.85\n",
      "Train Score 0.854\n",
      "Test Score 0.83\n",
      "Train Score 0.855\n",
      "Test Score 0.84\n",
      "Train Score 0.856\n",
      "Test Score 0.85\n",
      "Train Score 0.855\n",
      "Test Score 0.83\n",
      "Train Score 0.856\n",
      "Test Score 0.85\n",
      "Train Score 0.854\n",
      "Test Score 0.83\n",
      "Train Score 0.855\n",
      "Test Score 0.84\n",
      "Train Score 0.856\n",
      "Test Score 0.85\n",
      "Train Score 0.854\n",
      "Test Score 0.83\n",
      "Train Score 0.855\n",
      "Test Score 0.84\n",
      "Train Score 0.857\n",
      "Test Score 0.85\n",
      "Train Score 0.855\n",
      "Test Score 0.83\n",
      "Train Score 0.856\n",
      "Test Score 0.85\n",
      "Train Score 0.854\n",
      "Test Score 0.83\n",
      "Train Score 0.855\n",
      "Test Score 0.84\n",
      "Train Score 0.857\n",
      "Test Score 0.85\n",
      "Train Score 0.855\n",
      "Test Score 0.83\n",
      "Train Score 0.855\n",
      "Test Score 0.84\n",
      "Train Score 0.857\n",
      "Test Score 0.85\n",
      "Train Score 0.855\n",
      "Test Score 0.83\n",
      "Train Score 0.857\n",
      "Test Score 0.85\n",
      "Train Score 0.855\n",
      "Test Score 0.83\n"
     ]
    }
   ],
   "source": [
    "w1 = np.random.normal(0,0.001)\n",
    "w2 = np.random.normal(0,0.001)\n",
    "b = np.random.normal(0,0.001)\n",
    "# Wir beobachten eine hohe Genauigkeit\n",
    "print(w1,w2,b)\n",
    "acc = []\n",
    "for x in range(100):\n",
    "    train_data()\n",
    "    acc.append(print_acc())\n",
    "# Nach der ersten Epoche sinkt die Genauigkeit teilweise...."
   ]
  },
  {
   "cell_type": "code",
   "execution_count": 148,
   "metadata": {},
   "outputs": [
    {
     "data": {
      "image/png": "[encoded data removed]",
      "text/plain": [
       "<matplotlib.figure.Figure at 0x114d2ff98>"
      ]
     },
     "metadata": {},
     "output_type": "display_data"
    }
   ],
   "source": [
    "%matplotlib inline\n",
    "plt.close('all')\n",
    "\n",
    "for i,y in enumerate(acc):\n",
    "    plt.plot(i, y[0],'ro',color='blue') #color= colors[test[2][i]])\n",
    "    plt.plot(i, y[1],'ro',color='red')"
   ]
  },
  {
   "cell_type": "code",
   "execution_count": 150,
   "metadata": {
    "collapsed": true
   },
   "outputs": [],
   "source": [
    "#\"Blau = Train, Rot = Test\""
   ]
  },
  {
   "cell_type": "code",
   "execution_count": 12,
   "metadata": {
    "ExecuteTime": {
     "end_time": "2018-05-21T11:06:02.418319Z",
     "start_time": "2018-05-21T11:06:02.278707Z"
    }
   },
   "outputs": [
    {
     "data": {
      "text/plain": [
       "[]"
      ]
     },
     "execution_count": 12,
     "metadata": {},
     "output_type": "execute_result"
    }
   ],
   "source": [
    "from keras import backend as K\n",
    "K.tensorflow_backend._get_available_gpus()"
   ]
  },
  {
   "cell_type": "code",
   "execution_count": 10,
   "metadata": {
    "ExecuteTime": {
     "end_time": "2018-05-21T11:04:18.166490Z",
     "start_time": "2018-05-21T11:04:18.138120Z"
    }
   },
   "outputs": [],
   "source": [
    "from keras.models import Sequential\n",
    "from keras.layers import Dense\n",
    "from keras.layers import Flatten\n",
    "\n",
    "from keras.utils import np_utils\n",
    "from keras.optimizers import SGD\n",
    "\n",
    "import numpy as np\n",
    "np.random.seed(123) #um die Gewichte immer gleich zufaellig zu initialisieren\n",
    "from tensorflow import set_random_seed\n",
    "set_random_seed(123) # um die Gewichte immer gleichzufaellig zu initialisieren"
   ]
  },
  {
   "cell_type": "code",
   "execution_count": 11,
   "metadata": {
    "ExecuteTime": {
     "end_time": "2018-05-21T11:07:58.593534Z",
     "start_time": "2018-05-21T11:07:58.565789Z"
    }
   },
   "outputs": [
    {
     "ename": "NameError",
     "evalue": "name 'train' is not defined",
     "output_type": "error",
     "traceback": [
      "\u001b[0;31m---------------------------------------------------------------------------\u001b[0m",
      "\u001b[0;31mNameError\u001b[0m                                 Traceback (most recent call last)",
      "\u001b[0;32m<ipython-input-11-2f0065fd5f77>\u001b[0m in \u001b[0;36m<module>\u001b[0;34m()\u001b[0m\n\u001b[0;32m----> 1\u001b[0;31m \u001b[0mX_train\u001b[0m \u001b[0;34m=\u001b[0m \u001b[0mnp\u001b[0m\u001b[0;34m.\u001b[0m\u001b[0mdstack\u001b[0m\u001b[0;34m(\u001b[0m\u001b[0mtrain\u001b[0m\u001b[0;34m[\u001b[0m\u001b[0;34m:\u001b[0m\u001b[0;36m2\u001b[0m\u001b[0;34m]\u001b[0m\u001b[0;34m)\u001b[0m\u001b[0;34m[\u001b[0m\u001b[0;36m0\u001b[0m\u001b[0;34m]\u001b[0m\u001b[0;31m#X_train.reshape(X_train.shape[0], 28, 28, 1)\u001b[0m\u001b[0;34m\u001b[0m\u001b[0m\n\u001b[0m\u001b[1;32m      2\u001b[0m \u001b[0mX_test\u001b[0m \u001b[0;34m=\u001b[0m \u001b[0mnp\u001b[0m\u001b[0;34m.\u001b[0m\u001b[0mdstack\u001b[0m\u001b[0;34m(\u001b[0m\u001b[0mtest\u001b[0m\u001b[0;34m[\u001b[0m\u001b[0;34m:\u001b[0m\u001b[0;36m2\u001b[0m\u001b[0;34m]\u001b[0m\u001b[0;34m)\u001b[0m\u001b[0;34m[\u001b[0m\u001b[0;36m0\u001b[0m\u001b[0;34m]\u001b[0m\u001b[0;31m#X_test.reshape(X_test.shape[0], 28, 28, 1)\u001b[0m\u001b[0;34m\u001b[0m\u001b[0m\n\u001b[1;32m      3\u001b[0m \u001b[0mX_train\u001b[0m \u001b[0;34m=\u001b[0m \u001b[0mX_train\u001b[0m\u001b[0;34m.\u001b[0m\u001b[0mastype\u001b[0m\u001b[0;34m(\u001b[0m\u001b[0;34m'float32'\u001b[0m\u001b[0;34m)\u001b[0m\u001b[0;34m\u001b[0m\u001b[0m\n\u001b[1;32m      4\u001b[0m \u001b[0mX_test\u001b[0m \u001b[0;34m=\u001b[0m \u001b[0mX_test\u001b[0m\u001b[0;34m.\u001b[0m\u001b[0mastype\u001b[0m\u001b[0;34m(\u001b[0m\u001b[0;34m'float32'\u001b[0m\u001b[0;34m)\u001b[0m\u001b[0;34m\u001b[0m\u001b[0m\n\u001b[1;32m      5\u001b[0m \u001b[0;34m\u001b[0m\u001b[0m\n",
      "\u001b[0;31mNameError\u001b[0m: name 'train' is not defined"
     ]
    }
   ],
   "source": [
    "X_train = np.dstack(train[:2])[0]#X_train.reshape(X_train.shape[0], 28, 28, 1)\n",
    "X_test = np.dstack(test[:2])[0]#X_test.reshape(X_test.shape[0], 28, 28, 1)\n",
    "X_train = X_train.astype('float32')\n",
    "X_test = X_test.astype('float32')\n",
    " \n",
    "Y_train = np_utils.to_categorical(train[2]==1,2)\n",
    "Y_test = np_utils.to_categorical(test[2]==1,2)\n",
    "X_train = X_train.reshape(X_train.shape[0], 2, 1)\n",
    "X_test = X_test.reshape(X_test.shape[0], 2, 1) "
   ]
  },
  {
   "cell_type": "code",
   "execution_count": null,
   "metadata": {
    "collapsed": true
   },
   "outputs": [],
   "source": [
    "model = Sequential() \n",
    " \n",
    "model.add(Flatten(input_shape=(2,1)))\n",
    "model.add(Dense(128, activation='relu'))\n",
    "model.add(Dense(128, activation='relu'))\n",
    "model.add(Dense(10, activation='softmax'))\n",
    " \n",
    "model.compile(loss='categorical_crossentropy',\n",
    "              optimizer=SGD(lr=0.01, momentum=0.9),\n",
    "              metrics=['accuracy'])\n",
    " \n",
    "history = model.fit(X_train, Y_train, \n",
    "          batch_size=32, nb_epoch=10, validation_split=0.2,verbose=1)\n",
    " \n",
    "score = model.evaluate(X_test, Y_test, verbose=1)\n",
    "print('\\n', 'test acc', score[1])\n",
    "\n",
    "print(history.history)"
   ]
  },
  {
   "cell_type": "code",
   "execution_count": null,
   "metadata": {},
   "outputs": [],
   "source": []
  }
 ],
 "metadata": {
  "kernelspec": {
   "display_name": "Python 3",
   "language": "python",
   "name": "python3"
  },
  "language_info": {
   "codemirror_mode": {
    "name": "ipython",
    "version": 3
   },
   "file_extension": ".py",
   "mimetype": "text/x-python",
   "name": "python",
   "nbconvert_exporter": "python",
   "pygments_lexer": "ipython3",
   "version": "3.6.5"
  }
 },
 "nbformat": 4,
 "nbformat_minor": 2
}
