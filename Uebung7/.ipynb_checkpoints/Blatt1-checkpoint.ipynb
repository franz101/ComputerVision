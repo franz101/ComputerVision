{
 "cells": [
  {
   "cell_type": "code",
   "execution_count": 2,
   "metadata": {},
   "outputs": [
    {
     "name": "stdout",
     "output_type": "stream",
     "text": [
      "[name: \"/cpu:0\"\n",
      "device_type: \"CPU\"\n",
      "memory_limit: 268435456\n",
      "locality {\n",
      "}\n",
      "incarnation: 11054460569030580481\n",
      ", name: \"/gpu:0\"\n",
      "device_type: \"GPU\"\n",
      "memory_limit: 1743585280\n",
      "locality {\n",
      "  bus_id: 1\n",
      "}\n",
      "incarnation: 7829212675196043361\n",
      "physical_device_desc: \"device: 0, name: Quadro K620, pci bus id: 0000:01:00.0\"\n",
      "]\n"
     ]
    }
   ],
   "source": [
    "from tensorflow.python.client import device_lib\n",
    "print(device_lib.list_local_devices())\n",
    "#!pip install --upgrade keras==2.1.3"
   ]
  },
  {
   "cell_type": "markdown",
   "metadata": {},
   "source": [
    "### Keras laden"
   ]
  },
  {
   "cell_type": "code",
   "execution_count": 1,
   "metadata": {},
   "outputs": [
    {
     "name": "stderr",
     "output_type": "stream",
     "text": [
      "/informatik2/students/home/6krekele/anaconda3/lib/python3.6/site-packages/h5py/__init__.py:36: FutureWarning: Conversion of the second argument of issubdtype from `float` to `np.floating` is deprecated. In future, it will be treated as `np.float64 == np.dtype(float).type`.\n",
      "  from ._conv import register_converters as _register_converters\n",
      "Using TensorFlow backend.\n"
     ]
    }
   ],
   "source": [
    "import keras\n",
    "from keras.datasets import cifar10\n",
    "\n",
    "(X_train, y_train), (X_test, y_test) = cifar10.load_data() #CIFAR-10 Datensatz laden"
   ]
  },
  {
   "cell_type": "code",
   "execution_count": 2,
   "metadata": {},
   "outputs": [],
   "source": [
    "NUM_CLASSES=10\n",
    "X_train = X_train.astype('float32') / 225.0\n",
    "X_test = X_test.astype('float32') / 225.0\n",
    "y_train = keras.utils.to_categorical(y_train,NUM_CLASSES)\n",
    "y_test = keras.utils.to_categorical(y_test,NUM_CLASSES)"
   ]
  },
  {
   "cell_type": "code",
   "execution_count": 3,
   "metadata": {},
   "outputs": [],
   "source": [
    "import matplotlib.pyplot as plt\n",
    "import random\n",
    "\n",
    "%matplotlib inline\n",
    "import numpy as np\n",
    "dataset_size = X_train.shape[0]\n",
    "\n",
    "idx = random.randint(0, dataset_size)\n",
    "\n",
    "sample_img = X_train[idx]\n",
    "sample_label= np.argmax(y_train[idx])"
   ]
  },
  {
   "cell_type": "markdown",
   "metadata": {},
   "source": [
    "### Beispiel Bild anzeigen"
   ]
  },
  {
   "cell_type": "code",
   "execution_count": 4,
   "metadata": {},
   "outputs": [],
   "source": [
    "labels = [\"airplane\",\"automobile\",\"bird\",\"cat\",\"deer\",\"dog\",\"frog\",\"horse\",\"ship\",\"truck\"]\n",
    "labeldict = {}\n",
    "for i,x in enumerate(labels):\n",
    "    labeldict[i]=x"
   ]
  },
  {
   "cell_type": "code",
   "execution_count": 5,
   "metadata": {},
   "outputs": [
    {
     "name": "stderr",
     "output_type": "stream",
     "text": [
      "Clipping input data to the valid range for imshow with RGB data ([0..1] for floats or [0..255] for integers).\n"
     ]
    },
    {
     "name": "stdout",
     "output_type": "stream",
     "text": [
      "Sample_Label : automobile\n"
     ]
    },
    {
     "data": {
      "text/plain": [
       "<matplotlib.image.AxesImage at 0x7fbc225be860>"
      ]
     },
     "execution_count": 5,
     "metadata": {},
     "output_type": "execute_result"
    },
    {
     "data": {
      "image/png": "[encoded data removed]",
      "text/plain": [
       "<Figure size 432x288 with 1 Axes>"
      ]
     },
     "metadata": {},
     "output_type": "display_data"
    }
   ],
   "source": [
    "print(u\"Sample_Label : %s\" % labeldict[sample_label])\n",
    "plt.imshow(sample_img)"
   ]
  },
  {
   "cell_type": "markdown",
   "metadata": {},
   "source": [
    "### Erzeugung des CNN"
   ]
  },
  {
   "cell_type": "code",
   "execution_count": 6,
   "metadata": {},
   "outputs": [],
   "source": [
    "from keras.models import Sequential\n",
    "from keras.layers import Conv2D,MaxPool2D, Dense\n",
    "from keras.layers import Dropout, Activation , Flatten\n",
    "\n",
    "input_shape = X_train.shape[1:]\n",
    "\n",
    "model = Sequential()\n",
    "\n",
    "model.add(Conv2D(32,(5,5),padding ='same',input_shape=input_shape)) # 5x5x32' Conv \n",
    "model.add(Activation('relu')) # relu\n",
    "\n",
    "model.add(Conv2D(32, (3, 3)))# 3x3x32 Conv\n",
    "model.add(MaxPool2D(pool_size=(2,2))) # 2x2 max pool \n",
    "model.add(Activation('relu'))\n",
    "#model.add(Dropout(0.25)) #\n",
    "\n",
    "model.add(Conv2D(64,(3,3),padding='same')) # 3x3x64\n",
    "model.add(Activation('relu')) # relu\n",
    "\n",
    "model.add(Conv2D(64,(3,3))) # 3x3x64'\n",
    "model.add(MaxPool2D(pool_size=(2,2)))# 2x2  maxpool\n",
    "#model.add(Dropout(0.5)) # Dropout \n",
    "\n",
    "model.add(Flatten()) # \n",
    "model.add(Dense(1024,activation='relu')) # Hidden Layer\n",
    "#model.add(Dropout(0.25))\n",
    "\n",
    "model.add(Dense(NUM_CLASSES,activation='softmax'))  # Softmax\n",
    "\n",
    "LEARNING_RATE = 0\n",
    "\n",
    "model.compile(loss=keras.losses.categorical_crossentropy,optimizer=keras.optimizers.Adadelta(),metrics=['accuracy'])"
   ]
  },
  {
   "cell_type": "code",
   "execution_count": 7,
   "metadata": {},
   "outputs": [
    {
     "name": "stdout",
     "output_type": "stream",
     "text": [
      "Train on 50000 samples, validate on 10000 samples\n",
      "Epoch 1/10\n",
      "50000/50000 [==============================] - 138s 3ms/step - loss: 2.1838 - acc: 0.2053 - val_loss: 3.1303 - val_acc: 0.1927\n",
      "Epoch 2/10\n",
      "50000/50000 [==============================] - 34s 673us/step - loss: 1.7673 - acc: 0.3763 - val_loss: 1.4865 - val_acc: 0.4697\n",
      "Epoch 3/10\n",
      "50000/50000 [==============================] - 34s 673us/step - loss: 1.4771 - acc: 0.4791 - val_loss: 1.4333 - val_acc: 0.4760\n",
      "Epoch 4/10\n",
      "50000/50000 [==============================] - 34s 672us/step - loss: 1.3349 - acc: 0.5308 - val_loss: 1.2817 - val_acc: 0.5529\n",
      "Epoch 5/10\n",
      "50000/50000 [==============================] - 34s 673us/step - loss: 1.1738 - acc: 0.5892 - val_loss: 1.1951 - val_acc: 0.5743\n",
      "Epoch 6/10\n",
      "50000/50000 [==============================] - 34s 673us/step - loss: 1.0683 - acc: 0.6290 - val_loss: 1.1587 - val_acc: 0.5941\n",
      "Epoch 7/10\n",
      "50000/50000 [==============================] - 34s 673us/step - loss: 0.9666 - acc: 0.6662 - val_loss: 1.0373 - val_acc: 0.6352\n",
      "Epoch 8/10\n",
      "50000/50000 [==============================] - 34s 673us/step - loss: 0.8483 - acc: 0.7057 - val_loss: 0.9722 - val_acc: 0.6667\n",
      "Epoch 9/10\n",
      "50000/50000 [==============================] - 34s 673us/step - loss: 0.7219 - acc: 0.7519 - val_loss: 1.0932 - val_acc: 0.6369\n",
      "Epoch 10/10\n",
      "50000/50000 [==============================] - 34s 673us/step - loss: 0.6444 - acc: 0.7804 - val_loss: 1.0028 - val_acc: 0.6617\n"
     ]
    },
    {
     "data": {
      "text/plain": [
       "<keras.callbacks.History at 0x7fbc22596080>"
      ]
     },
     "execution_count": 7,
     "metadata": {},
     "output_type": "execute_result"
    }
   ],
   "source": [
    "model.fit(X_train, y_train, batch_size=512, epochs=10,verbose=1,validation_data=(X_test, y_test),shuffle=True)"
   ]
  },
  {
   "cell_type": "code",
   "execution_count": 8,
   "metadata": {},
   "outputs": [
    {
     "name": "stdout",
     "output_type": "stream",
     "text": [
      "10000/10000 [==============================] - 3s 283us/step\n"
     ]
    },
    {
     "data": {
      "text/plain": [
       "[1.0027551094055176, 0.6617]"
      ]
     },
     "execution_count": 8,
     "metadata": {},
     "output_type": "execute_result"
    }
   ],
   "source": [
    "model.evaluate(X_test,y_test, verbose=1) "
   ]
  },
  {
   "cell_type": "code",
   "execution_count": 14,
   "metadata": {},
   "outputs": [],
   "source": [
    "file_save = keras.callbacks.ModelCheckpoint(filepath=\"file.h5\", monitor='val_loss', verbose=0, save_best_only=True, save_weights_only= False, mode='auto', period=1)\n",
    "early_stopping = keras.callbacks.EarlyStopping(monitor='val_loss', min_delta=0, patience=0, verbose=0, mode='auto')\n",
    "#learning_rate = keras.callbacks.LearningRateScheduler(schedule, verbose=0)"
   ]
  },
  {
   "cell_type": "markdown",
   "metadata": {},
   "source": [
    "### Early Stopping Callback hinzufügen"
   ]
  },
  {
   "cell_type": "code",
   "execution_count": 15,
   "metadata": {},
   "outputs": [
    {
     "name": "stdout",
     "output_type": "stream",
     "text": [
      "Train on 50000 samples, validate on 10000 samples\n",
      "Epoch 1/10\n",
      "50000/50000 [==============================] - 34s 679us/step - loss: 0.5275 - acc: 0.8179 - val_loss: 1.0298 - val_acc: 0.6702\n",
      "Epoch 2/10\n",
      "50000/50000 [==============================] - 34s 672us/step - loss: 0.4890 - acc: 0.8402 - val_loss: 1.0635 - val_acc: 0.6847\n"
     ]
    },
    {
     "data": {
      "text/plain": [
       "<keras.callbacks.History at 0x7fbc207f3208>"
      ]
     },
     "execution_count": 15,
     "metadata": {},
     "output_type": "execute_result"
    }
   ],
   "source": [
    "model.fit(X_train, y_train, callbacks=[file_save, early_stopping] ,batch_size=512, epochs=10,verbose=1,validation_data=(X_test, y_test),shuffle=True)"
   ]
  },
  {
   "cell_type": "markdown",
   "metadata": {},
   "source": [
    "### Preprocessing"
   ]
  },
  {
   "cell_type": "code",
   "execution_count": 16,
   "metadata": {},
   "outputs": [
    {
     "ename": "NameError",
     "evalue": "name 'x_train' is not defined",
     "output_type": "error",
     "traceback": [
      "\u001b[0;31m---------------------------------------------------------------------------\u001b[0m",
      "\u001b[0;31mNameError\u001b[0m                                 Traceback (most recent call last)",
      "\u001b[0;32m<ipython-input-16-50bd5643f350>\u001b[0m in \u001b[0;36m<module>\u001b[0;34m()\u001b[0m\n\u001b[1;32m      8\u001b[0m     horizontal_flip=True)\n\u001b[1;32m      9\u001b[0m \u001b[0;34m\u001b[0m\u001b[0m\n\u001b[0;32m---> 10\u001b[0;31m \u001b[0mdatagen\u001b[0m\u001b[0;34m.\u001b[0m\u001b[0mfit\u001b[0m\u001b[0;34m(\u001b[0m\u001b[0mx_train\u001b[0m\u001b[0;34m)\u001b[0m\u001b[0;34m\u001b[0m\u001b[0m\n\u001b[0m\u001b[1;32m     11\u001b[0m \u001b[0;34m\u001b[0m\u001b[0m\n\u001b[1;32m     12\u001b[0m \u001b[0;31m# fits the model on batches with real-time data augmentation:\u001b[0m\u001b[0;34m\u001b[0m\u001b[0;34m\u001b[0m\u001b[0m\n",
      "\u001b[0;31mNameError\u001b[0m: name 'x_train' is not defined"
     ]
    }
   ],
   "source": [
    "from keras.preprocessing.image import ImageDataGenerator\n",
    "datagen = ImageDataGenerator(\n",
    "    featurewise_center=True,\n",
    "    featurewise_std_normalization=True,\n",
    "    rotation_range=20,\n",
    "    width_shift_range=0.2,\n",
    "    height_shift_range=0.2,\n",
    "    horizontal_flip=True)\n",
    "\n",
    "datagen.fit(x_train)\n",
    "\n",
    "# fits the model on batches with real-time data augmentation:\n",
    "model.fit_generator(datagen.flow(x_train, y_train, batch_size=32),\n",
    "                    steps_per_epoch=len(x_train) / 32, epochs=epochs)"
   ]
  }
 ],
 "metadata": {
  "kernelspec": {
   "display_name": "Python 3",
   "language": "python",
   "name": "python3"
  },
  "language_info": {
   "codemirror_mode": {
    "name": "ipython",
    "version": 3
   },
   "file_extension": ".py",
   "mimetype": "text/x-python",
   "name": "python",
   "nbconvert_exporter": "python",
   "pygments_lexer": "ipython3",
   "version": "3.6.5"
  }
 },
 "nbformat": 4,
 "nbformat_minor": 2
}
